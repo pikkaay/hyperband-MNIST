{
 "cells": [
  {
   "cell_type": "code",
   "execution_count": 4,
   "metadata": {},
   "outputs": [],
   "source": [
    "from hyperopt import hp\n",
    "from hyperopt.pyll.stochastic import sample\n",
    "import tensorflow as tf\n",
    "from tefla.core.lr_policy import StepDecayPolicy"
   ]
  },
  {
   "cell_type": "code",
   "execution_count": 12,
   "metadata": {},
   "outputs": [],
   "source": [
    "\n",
    "max_layers = 5\n",
    "\n",
    "space = {\n",
    "  'batch_size_train': hp.choice( 'bs', ( 16, 32, 64, 128, 256 )),\n",
    "  'batch_size_test': hp.choice( 'bs', ( 16, 32, 64, 128, 256 )),\n",
    "}\n",
    "\n",
    "  \n",
    "def get_params():\n",
    "\n",
    "  params = sample( space )\n",
    "  return handle_integers( params )\n"
   ]
  },
  {
   "cell_type": "code",
   "execution_count": 13,
   "metadata": {},
   "outputs": [
    {
     "data": {
      "text/plain": [
       "{'batch_size_test': <hyperopt.pyll.base.Apply at 0x7f64140a9c90>,\n",
       " 'batch_size_train': <hyperopt.pyll.base.Apply at 0x7f64140a9210>}"
      ]
     },
     "execution_count": 13,
     "metadata": {},
     "output_type": "execute_result"
    }
   ],
   "source": [
    "space"
   ]
  },
  {
   "cell_type": "code",
   "execution_count": 16,
   "metadata": {},
   "outputs": [],
   "source": [
    "spaces = [sample(space) for i in range(2)]"
   ]
  },
  {
   "cell_type": "code",
   "execution_count": 36,
   "metadata": {},
   "outputs": [],
   "source": [
    "cnf = {\n",
    "    'multilabel': True,\n",
    "    'classification':True,\n",
    "    # 'validation_scores': [('validation accuracy', util.accuracy_wrapper), ('validation kappa', util.kappa_wrapper)],\n",
    "    'validation_scores': [('accuracy', tf.contrib.metrics.f1_score)],\n",
    "    'num_epochs': 200,\n",
    "    'lr_policy': StepDecayPolicy(\n",
    "        schedule={\n",
    "            0: 0.01,\n",
    "            10: 0.003,\n",
    "            90: 0.0003,\n",
    "            110: 0.003,\n",
    "            120: 0.0003,\n",
    "            200: 0.00003,\n",
    "        }\n",
    "    ),\n",
    "\n",
    "\n",
    "    'aug_params': {\n",
    "        'zoom_range': (1 / 1.15, 1.15),\n",
    "        'rotation_range': (0, 0),\n",
    "        'shear_range': (0, 0),\n",
    "        'translation_range': (0, 0),\n",
    "        'do_flip': False,\n",
    "        'allow_stretch': True,\n",
    "    },\n",
    "    'input_size': (28,28,3),\n",
    "\n",
    "    }"
   ]
  },
  {
   "cell_type": "code",
   "execution_count": 32,
   "metadata": {},
   "outputs": [
    {
     "data": {
      "text/plain": [
       "{'batch_size_test': 64, 'batch_size_train': 32}"
      ]
     },
     "execution_count": 32,
     "metadata": {},
     "output_type": "execute_result"
    }
   ],
   "source": [
    "sp = spaces[0]\n",
    "sp"
   ]
  },
  {
   "cell_type": "code",
   "execution_count": 37,
   "metadata": {},
   "outputs": [],
   "source": [
    "cnf.update(sp)"
   ]
  },
  {
   "cell_type": "code",
   "execution_count": 42,
   "metadata": {},
   "outputs": [
    {
     "data": {
      "text/plain": [
       "{'aug_params': {'allow_stretch': True,\n",
       "  'do_flip': False,\n",
       "  'rotation_range': (0, 0),\n",
       "  'shear_range': (0, 0),\n",
       "  'translation_range': (0, 0),\n",
       "  'zoom_range': (0.8695652173913044, 1.15)},\n",
       " 'batch_size_test': 64,\n",
       " 'batch_size_train': 32,\n",
       " 'classification': True,\n",
       " 'input_size': (28, 28, 3),\n",
       " 'lr_policy': StepDecayPolicy(schedule={0: 0.01, 200: 3e-05, 10: 0.003, 110: 0.003, 120: 0.0003, 90: 0.0003}),\n",
       " 'multilabel': True,\n",
       " 'num_epochs': 200,\n",
       " 'validation_scores': [('accuracy',\n",
       "   <function tensorflow.contrib.metrics.python.metrics.classification.f1_score>)]}"
      ]
     },
     "execution_count": 42,
     "metadata": {},
     "output_type": "execute_result"
    }
   ],
   "source": [
    "cnf"
   ]
  },
  {
   "cell_type": "code",
   "execution_count": null,
   "metadata": {},
   "outputs": [],
   "source": []
  },
  {
   "cell_type": "code",
   "execution_count": null,
   "metadata": {},
   "outputs": [],
   "source": []
  },
  {
   "cell_type": "code",
   "execution_count": null,
   "metadata": {},
   "outputs": [],
   "source": []
  },
  {
   "cell_type": "code",
   "execution_count": null,
   "metadata": {},
   "outputs": [],
   "source": []
  },
  {
   "cell_type": "code",
   "execution_count": null,
   "metadata": {},
   "outputs": [],
   "source": []
  },
  {
   "cell_type": "code",
   "execution_count": null,
   "metadata": {},
   "outputs": [],
   "source": []
  }
 ],
 "metadata": {
  "kernelspec": {
   "display_name": "Python 3",
   "language": "python",
   "name": "python3"
  },
  "language_info": {
   "codemirror_mode": {
    "name": "ipython",
    "version": 2
   },
   "file_extension": ".py",
   "mimetype": "text/x-python",
   "name": "python",
   "nbconvert_exporter": "python",
   "pygments_lexer": "ipython2",
   "version": "2.7.15rc1"
  }
 },
 "nbformat": 4,
 "nbformat_minor": 2
}
